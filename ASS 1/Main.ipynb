{
 "cells": [
  {
   "cell_type": "code",
   "execution_count": 1,
   "metadata": {},
   "outputs": [],
   "source": [
    "import matplotlib.pyplot as plt\n",
    "import pandas as pd\n",
    "import pylab as pl\n",
    "import numpy as np\n",
    "%matplotlib inline"
   ]
  },
  {
   "cell_type": "code",
   "execution_count": 2,
   "metadata": {},
   "outputs": [
    {
     "data": {
      "text/html": [
       "<div>\n",
       "<style scoped>\n",
       "    .dataframe tbody tr th:only-of-type {\n",
       "        vertical-align: middle;\n",
       "    }\n",
       "\n",
       "    .dataframe tbody tr th {\n",
       "        vertical-align: top;\n",
       "    }\n",
       "\n",
       "    .dataframe thead th {\n",
       "        text-align: right;\n",
       "    }\n",
       "</style>\n",
       "<table border=\"1\" class=\"dataframe\">\n",
       "  <thead>\n",
       "    <tr style=\"text-align: right;\">\n",
       "      <th></th>\n",
       "      <th>country</th>\n",
       "      <th>iso_code</th>\n",
       "      <th>date</th>\n",
       "      <th>total_vaccinations</th>\n",
       "      <th>people_vaccinated</th>\n",
       "      <th>people_fully_vaccinated</th>\n",
       "      <th>daily_vaccinations_raw</th>\n",
       "      <th>daily_vaccinations</th>\n",
       "      <th>total_vaccinations_per_hundred</th>\n",
       "      <th>people_vaccinated_per_hundred</th>\n",
       "      <th>people_fully_vaccinated_per_hundred</th>\n",
       "      <th>daily_vaccinations_per_million</th>\n",
       "      <th>vaccines</th>\n",
       "      <th>source_name</th>\n",
       "      <th>source_website</th>\n",
       "    </tr>\n",
       "  </thead>\n",
       "  <tbody>\n",
       "    <tr>\n",
       "      <th>0</th>\n",
       "      <td>Argentina</td>\n",
       "      <td>ARG</td>\n",
       "      <td>2020-12-29</td>\n",
       "      <td>700.0</td>\n",
       "      <td>NaN</td>\n",
       "      <td>NaN</td>\n",
       "      <td>NaN</td>\n",
       "      <td>NaN</td>\n",
       "      <td>0.00</td>\n",
       "      <td>NaN</td>\n",
       "      <td>NaN</td>\n",
       "      <td>NaN</td>\n",
       "      <td>Sputnik V</td>\n",
       "      <td>Ministry of Health</td>\n",
       "      <td>http://datos.salud.gob.ar/dataset/vacunas-cont...</td>\n",
       "    </tr>\n",
       "    <tr>\n",
       "      <th>1</th>\n",
       "      <td>Argentina</td>\n",
       "      <td>ARG</td>\n",
       "      <td>2020-12-30</td>\n",
       "      <td>NaN</td>\n",
       "      <td>NaN</td>\n",
       "      <td>NaN</td>\n",
       "      <td>NaN</td>\n",
       "      <td>15656.0</td>\n",
       "      <td>NaN</td>\n",
       "      <td>NaN</td>\n",
       "      <td>NaN</td>\n",
       "      <td>346.0</td>\n",
       "      <td>Sputnik V</td>\n",
       "      <td>Ministry of Health</td>\n",
       "      <td>http://datos.salud.gob.ar/dataset/vacunas-cont...</td>\n",
       "    </tr>\n",
       "    <tr>\n",
       "      <th>2</th>\n",
       "      <td>Argentina</td>\n",
       "      <td>ARG</td>\n",
       "      <td>2020-12-31</td>\n",
       "      <td>32013.0</td>\n",
       "      <td>NaN</td>\n",
       "      <td>NaN</td>\n",
       "      <td>NaN</td>\n",
       "      <td>15656.0</td>\n",
       "      <td>0.07</td>\n",
       "      <td>NaN</td>\n",
       "      <td>NaN</td>\n",
       "      <td>346.0</td>\n",
       "      <td>Sputnik V</td>\n",
       "      <td>Ministry of Health</td>\n",
       "      <td>http://datos.salud.gob.ar/dataset/vacunas-cont...</td>\n",
       "    </tr>\n",
       "    <tr>\n",
       "      <th>3</th>\n",
       "      <td>Argentina</td>\n",
       "      <td>ARG</td>\n",
       "      <td>2021-01-01</td>\n",
       "      <td>NaN</td>\n",
       "      <td>NaN</td>\n",
       "      <td>NaN</td>\n",
       "      <td>NaN</td>\n",
       "      <td>11070.0</td>\n",
       "      <td>NaN</td>\n",
       "      <td>NaN</td>\n",
       "      <td>NaN</td>\n",
       "      <td>245.0</td>\n",
       "      <td>Sputnik V</td>\n",
       "      <td>Ministry of Health</td>\n",
       "      <td>http://datos.salud.gob.ar/dataset/vacunas-cont...</td>\n",
       "    </tr>\n",
       "    <tr>\n",
       "      <th>4</th>\n",
       "      <td>Argentina</td>\n",
       "      <td>ARG</td>\n",
       "      <td>2021-01-02</td>\n",
       "      <td>NaN</td>\n",
       "      <td>NaN</td>\n",
       "      <td>NaN</td>\n",
       "      <td>NaN</td>\n",
       "      <td>8776.0</td>\n",
       "      <td>NaN</td>\n",
       "      <td>NaN</td>\n",
       "      <td>NaN</td>\n",
       "      <td>194.0</td>\n",
       "      <td>Sputnik V</td>\n",
       "      <td>Ministry of Health</td>\n",
       "      <td>http://datos.salud.gob.ar/dataset/vacunas-cont...</td>\n",
       "    </tr>\n",
       "  </tbody>\n",
       "</table>\n",
       "</div>"
      ],
      "text/plain": [
       "     country iso_code        date  total_vaccinations  people_vaccinated  \\\n",
       "0  Argentina      ARG  2020-12-29               700.0                NaN   \n",
       "1  Argentina      ARG  2020-12-30                 NaN                NaN   \n",
       "2  Argentina      ARG  2020-12-31             32013.0                NaN   \n",
       "3  Argentina      ARG  2021-01-01                 NaN                NaN   \n",
       "4  Argentina      ARG  2021-01-02                 NaN                NaN   \n",
       "\n",
       "   people_fully_vaccinated  daily_vaccinations_raw  daily_vaccinations  \\\n",
       "0                      NaN                     NaN                 NaN   \n",
       "1                      NaN                     NaN             15656.0   \n",
       "2                      NaN                     NaN             15656.0   \n",
       "3                      NaN                     NaN             11070.0   \n",
       "4                      NaN                     NaN              8776.0   \n",
       "\n",
       "   total_vaccinations_per_hundred  people_vaccinated_per_hundred  \\\n",
       "0                            0.00                            NaN   \n",
       "1                             NaN                            NaN   \n",
       "2                            0.07                            NaN   \n",
       "3                             NaN                            NaN   \n",
       "4                             NaN                            NaN   \n",
       "\n",
       "   people_fully_vaccinated_per_hundred  daily_vaccinations_per_million  \\\n",
       "0                                  NaN                             NaN   \n",
       "1                                  NaN                           346.0   \n",
       "2                                  NaN                           346.0   \n",
       "3                                  NaN                           245.0   \n",
       "4                                  NaN                           194.0   \n",
       "\n",
       "    vaccines         source_name  \\\n",
       "0  Sputnik V  Ministry of Health   \n",
       "1  Sputnik V  Ministry of Health   \n",
       "2  Sputnik V  Ministry of Health   \n",
       "3  Sputnik V  Ministry of Health   \n",
       "4  Sputnik V  Ministry of Health   \n",
       "\n",
       "                                      source_website  \n",
       "0  http://datos.salud.gob.ar/dataset/vacunas-cont...  \n",
       "1  http://datos.salud.gob.ar/dataset/vacunas-cont...  \n",
       "2  http://datos.salud.gob.ar/dataset/vacunas-cont...  \n",
       "3  http://datos.salud.gob.ar/dataset/vacunas-cont...  \n",
       "4  http://datos.salud.gob.ar/dataset/vacunas-cont...  "
      ]
     },
     "execution_count": 2,
     "metadata": {},
     "output_type": "execute_result"
    }
   ],
   "source": [
    "df = pd.read_csv('country_vaccinations.csv')\n",
    "\n",
    "# take a look at the dataset\n",
    "df.head()"
   ]
  },
  {
   "cell_type": "code",
   "execution_count": 3,
   "metadata": {},
   "outputs": [],
   "source": [
    "# removing none Data\n",
    "df = df.dropna()"
   ]
  },
  {
   "cell_type": "code",
   "execution_count": 4,
   "metadata": {},
   "outputs": [
    {
     "data": {
      "text/plain": [
       "array(['Argentina', 'Belgium', 'Bulgaria', 'Chile', 'Czechia', 'Denmark',\n",
       "       'Finland', 'France', 'Germany', 'Greece', 'Hungary', 'Isle of Man',\n",
       "       'Israel', 'Italy', 'Lithuania', 'Luxembourg', 'Mexico', 'Norway',\n",
       "       'Oman', 'Poland', 'Romania', 'Slovakia', 'Slovenia', 'Spain',\n",
       "       'United Arab Emirates', 'United Kingdom', 'United States'],\n",
       "      dtype=object)"
      ]
     },
     "execution_count": 4,
     "metadata": {},
     "output_type": "execute_result"
    }
   ],
   "source": [
    "l = df.country.unique()\n",
    "l"
   ]
  },
  {
   "cell_type": "code",
   "execution_count": 5,
   "metadata": {},
   "outputs": [
    {
     "name": "stdout",
     "output_type": "stream",
     "text": [
      "Argentina  :  7\n",
      "Belgium  :  9\n",
      "Bulgaria  :  9\n",
      "Chile  :  11\n",
      "Czechia  :  10\n",
      "Denmark  :  12\n",
      "Finland  :  2\n",
      "France  :  23\n",
      "Germany  :  12\n",
      "Greece  :  7\n",
      "Hungary  :  9\n",
      "Isle of Man  :  2\n",
      "Israel  :  24\n",
      "Italy  :  12\n",
      "Lithuania  :  8\n",
      "Luxembourg  :  1\n",
      "Mexico  :  12\n",
      "Norway  :  10\n",
      "Oman  :  7\n",
      "Poland  :  10\n",
      "Romania  :  11\n",
      "Slovakia  :  9\n",
      "Slovenia  :  6\n",
      "Spain  :  6\n",
      "United Arab Emirates  :  18\n",
      "United Kingdom  :  16\n",
      "United States  :  9\n"
     ]
    }
   ],
   "source": [
    "for i in l:\n",
    "    print(i, \" : \", str(len(df[df['country']==i])))"
   ]
  },
  {
   "cell_type": "code",
   "execution_count": 6,
   "metadata": {},
   "outputs": [
    {
     "data": {
      "text/html": [
       "<div>\n",
       "<style scoped>\n",
       "    .dataframe tbody tr th:only-of-type {\n",
       "        vertical-align: middle;\n",
       "    }\n",
       "\n",
       "    .dataframe tbody tr th {\n",
       "        vertical-align: top;\n",
       "    }\n",
       "\n",
       "    .dataframe thead th {\n",
       "        text-align: right;\n",
       "    }\n",
       "</style>\n",
       "<table border=\"1\" class=\"dataframe\">\n",
       "  <thead>\n",
       "    <tr style=\"text-align: right;\">\n",
       "      <th></th>\n",
       "      <th>total_vaccinations</th>\n",
       "      <th>people_vaccinated</th>\n",
       "      <th>people_fully_vaccinated</th>\n",
       "      <th>daily_vaccinations_raw</th>\n",
       "      <th>daily_vaccinations</th>\n",
       "      <th>total_vaccinations_per_hundred</th>\n",
       "      <th>people_vaccinated_per_hundred</th>\n",
       "      <th>people_fully_vaccinated_per_hundred</th>\n",
       "      <th>daily_vaccinations_per_million</th>\n",
       "    </tr>\n",
       "  </thead>\n",
       "  <tbody>\n",
       "    <tr>\n",
       "      <th>count</th>\n",
       "      <td>2.400000e+01</td>\n",
       "      <td>2.400000e+01</td>\n",
       "      <td>2.400000e+01</td>\n",
       "      <td>24.000000</td>\n",
       "      <td>24.000000</td>\n",
       "      <td>24.000000</td>\n",
       "      <td>24.000000</td>\n",
       "      <td>24.000000</td>\n",
       "      <td>24.000000</td>\n",
       "    </tr>\n",
       "    <tr>\n",
       "      <th>mean</th>\n",
       "      <td>2.587520e+06</td>\n",
       "      <td>2.131822e+06</td>\n",
       "      <td>4.556980e+05</td>\n",
       "      <td>124766.541667</td>\n",
       "      <td>118857.291667</td>\n",
       "      <td>29.894583</td>\n",
       "      <td>24.629583</td>\n",
       "      <td>5.264583</td>\n",
       "      <td>13732.000000</td>\n",
       "    </tr>\n",
       "    <tr>\n",
       "      <th>std</th>\n",
       "      <td>8.864021e+05</td>\n",
       "      <td>3.954225e+05</td>\n",
       "      <td>5.029899e+05</td>\n",
       "      <td>62963.430374</td>\n",
       "      <td>40653.669255</td>\n",
       "      <td>10.239660</td>\n",
       "      <td>4.567529</td>\n",
       "      <td>5.811106</td>\n",
       "      <td>4696.779387</td>\n",
       "    </tr>\n",
       "    <tr>\n",
       "      <th>min</th>\n",
       "      <td>1.397768e+06</td>\n",
       "      <td>1.397766e+06</td>\n",
       "      <td>2.000000e+00</td>\n",
       "      <td>39312.000000</td>\n",
       "      <td>66195.000000</td>\n",
       "      <td>16.150000</td>\n",
       "      <td>16.150000</td>\n",
       "      <td>0.000000</td>\n",
       "      <td>7648.000000</td>\n",
       "    </tr>\n",
       "    <tr>\n",
       "      <th>25%</th>\n",
       "      <td>1.875246e+06</td>\n",
       "      <td>1.870745e+06</td>\n",
       "      <td>4.501000e+03</td>\n",
       "      <td>65407.500000</td>\n",
       "      <td>82868.250000</td>\n",
       "      <td>21.665000</td>\n",
       "      <td>21.612500</td>\n",
       "      <td>0.052500</td>\n",
       "      <td>9573.750000</td>\n",
       "    </tr>\n",
       "    <tr>\n",
       "      <th>50%</th>\n",
       "      <td>2.306025e+06</td>\n",
       "      <td>2.075442e+06</td>\n",
       "      <td>2.305835e+05</td>\n",
       "      <td>110595.000000</td>\n",
       "      <td>111899.500000</td>\n",
       "      <td>26.645000</td>\n",
       "      <td>23.980000</td>\n",
       "      <td>2.665000</td>\n",
       "      <td>12928.500000</td>\n",
       "    </tr>\n",
       "    <tr>\n",
       "      <th>75%</th>\n",
       "      <td>3.349348e+06</td>\n",
       "      <td>2.458592e+06</td>\n",
       "      <td>8.907560e+05</td>\n",
       "      <td>189730.000000</td>\n",
       "      <td>159962.750000</td>\n",
       "      <td>38.692500</td>\n",
       "      <td>28.402500</td>\n",
       "      <td>10.290000</td>\n",
       "      <td>18481.000000</td>\n",
       "    </tr>\n",
       "    <tr>\n",
       "      <th>max</th>\n",
       "      <td>4.252868e+06</td>\n",
       "      <td>2.804041e+06</td>\n",
       "      <td>1.448827e+06</td>\n",
       "      <td>229348.000000</td>\n",
       "      <td>182382.000000</td>\n",
       "      <td>49.130000</td>\n",
       "      <td>32.400000</td>\n",
       "      <td>16.740000</td>\n",
       "      <td>21071.000000</td>\n",
       "    </tr>\n",
       "  </tbody>\n",
       "</table>\n",
       "</div>"
      ],
      "text/plain": [
       "       total_vaccinations  people_vaccinated  people_fully_vaccinated  \\\n",
       "count        2.400000e+01       2.400000e+01             2.400000e+01   \n",
       "mean         2.587520e+06       2.131822e+06             4.556980e+05   \n",
       "std          8.864021e+05       3.954225e+05             5.029899e+05   \n",
       "min          1.397768e+06       1.397766e+06             2.000000e+00   \n",
       "25%          1.875246e+06       1.870745e+06             4.501000e+03   \n",
       "50%          2.306025e+06       2.075442e+06             2.305835e+05   \n",
       "75%          3.349348e+06       2.458592e+06             8.907560e+05   \n",
       "max          4.252868e+06       2.804041e+06             1.448827e+06   \n",
       "\n",
       "       daily_vaccinations_raw  daily_vaccinations  \\\n",
       "count               24.000000           24.000000   \n",
       "mean            124766.541667       118857.291667   \n",
       "std              62963.430374        40653.669255   \n",
       "min              39312.000000        66195.000000   \n",
       "25%              65407.500000        82868.250000   \n",
       "50%             110595.000000       111899.500000   \n",
       "75%             189730.000000       159962.750000   \n",
       "max             229348.000000       182382.000000   \n",
       "\n",
       "       total_vaccinations_per_hundred  people_vaccinated_per_hundred  \\\n",
       "count                       24.000000                      24.000000   \n",
       "mean                        29.894583                      24.629583   \n",
       "std                         10.239660                       4.567529   \n",
       "min                         16.150000                      16.150000   \n",
       "25%                         21.665000                      21.612500   \n",
       "50%                         26.645000                      23.980000   \n",
       "75%                         38.692500                      28.402500   \n",
       "max                         49.130000                      32.400000   \n",
       "\n",
       "       people_fully_vaccinated_per_hundred  daily_vaccinations_per_million  \n",
       "count                            24.000000                       24.000000  \n",
       "mean                              5.264583                    13732.000000  \n",
       "std                               5.811106                     4696.779387  \n",
       "min                               0.000000                     7648.000000  \n",
       "25%                               0.052500                     9573.750000  \n",
       "50%                               2.665000                    12928.500000  \n",
       "75%                              10.290000                    18481.000000  \n",
       "max                              16.740000                    21071.000000  "
      ]
     },
     "execution_count": 6,
     "metadata": {},
     "output_type": "execute_result"
    }
   ],
   "source": [
    "df[df['country']=='Israel'].describe()"
   ]
  },
  {
   "cell_type": "code",
   "execution_count": 7,
   "metadata": {},
   "outputs": [
    {
     "data": {
      "text/plain": [
       "24"
      ]
     },
     "execution_count": 7,
     "metadata": {},
     "output_type": "execute_result"
    }
   ],
   "source": [
    "len(df[df['country']=='Israel'])"
   ]
  },
  {
   "cell_type": "code",
   "execution_count": 8,
   "metadata": {},
   "outputs": [
    {
     "data": {
      "text/html": [
       "<div>\n",
       "<style scoped>\n",
       "    .dataframe tbody tr th:only-of-type {\n",
       "        vertical-align: middle;\n",
       "    }\n",
       "\n",
       "    .dataframe tbody tr th {\n",
       "        vertical-align: top;\n",
       "    }\n",
       "\n",
       "    .dataframe thead th {\n",
       "        text-align: right;\n",
       "    }\n",
       "</style>\n",
       "<table border=\"1\" class=\"dataframe\">\n",
       "  <thead>\n",
       "    <tr style=\"text-align: right;\">\n",
       "      <th></th>\n",
       "      <th>country</th>\n",
       "      <th>iso_code</th>\n",
       "      <th>date</th>\n",
       "      <th>total_vaccinations</th>\n",
       "      <th>people_vaccinated</th>\n",
       "      <th>people_fully_vaccinated</th>\n",
       "      <th>daily_vaccinations_raw</th>\n",
       "      <th>daily_vaccinations</th>\n",
       "      <th>total_vaccinations_per_hundred</th>\n",
       "      <th>people_vaccinated_per_hundred</th>\n",
       "      <th>people_fully_vaccinated_per_hundred</th>\n",
       "      <th>daily_vaccinations_per_million</th>\n",
       "      <th>vaccines</th>\n",
       "      <th>source_name</th>\n",
       "      <th>source_website</th>\n",
       "    </tr>\n",
       "  </thead>\n",
       "  <tbody>\n",
       "    <tr>\n",
       "      <th>777</th>\n",
       "      <td>Israel</td>\n",
       "      <td>ISR</td>\n",
       "      <td>2021-01-04</td>\n",
       "      <td>1397768.0</td>\n",
       "      <td>1397766.0</td>\n",
       "      <td>2.0</td>\n",
       "      <td>139297.0</td>\n",
       "      <td>126287.0</td>\n",
       "      <td>16.15</td>\n",
       "      <td>16.15</td>\n",
       "      <td>0.0</td>\n",
       "      <td>14590.0</td>\n",
       "      <td>Moderna, Pfizer/BioNTech</td>\n",
       "      <td>Government of Israel</td>\n",
       "      <td>https://datadashboard.health.gov.il/COVID-19/g...</td>\n",
       "    </tr>\n",
       "    <tr>\n",
       "      <th>778</th>\n",
       "      <td>Israel</td>\n",
       "      <td>ISR</td>\n",
       "      <td>2021-01-05</td>\n",
       "      <td>1520408.0</td>\n",
       "      <td>1520406.0</td>\n",
       "      <td>2.0</td>\n",
       "      <td>122640.0</td>\n",
       "      <td>121892.0</td>\n",
       "      <td>17.57</td>\n",
       "      <td>17.57</td>\n",
       "      <td>0.0</td>\n",
       "      <td>14083.0</td>\n",
       "      <td>Moderna, Pfizer/BioNTech</td>\n",
       "      <td>Government of Israel</td>\n",
       "      <td>https://datadashboard.health.gov.il/COVID-19/g...</td>\n",
       "    </tr>\n",
       "    <tr>\n",
       "      <th>779</th>\n",
       "      <td>Israel</td>\n",
       "      <td>ISR</td>\n",
       "      <td>2021-01-06</td>\n",
       "      <td>1620887.0</td>\n",
       "      <td>1620885.0</td>\n",
       "      <td>2.0</td>\n",
       "      <td>100479.0</td>\n",
       "      <td>114890.0</td>\n",
       "      <td>18.73</td>\n",
       "      <td>18.73</td>\n",
       "      <td>0.0</td>\n",
       "      <td>13274.0</td>\n",
       "      <td>Moderna, Pfizer/BioNTech</td>\n",
       "      <td>Government of Israel</td>\n",
       "      <td>https://datadashboard.health.gov.il/COVID-19/g...</td>\n",
       "    </tr>\n",
       "    <tr>\n",
       "      <th>780</th>\n",
       "      <td>Israel</td>\n",
       "      <td>ISR</td>\n",
       "      <td>2021-01-07</td>\n",
       "      <td>1734151.0</td>\n",
       "      <td>1734145.0</td>\n",
       "      <td>6.0</td>\n",
       "      <td>113264.0</td>\n",
       "      <td>108909.0</td>\n",
       "      <td>20.04</td>\n",
       "      <td>20.04</td>\n",
       "      <td>0.0</td>\n",
       "      <td>12583.0</td>\n",
       "      <td>Moderna, Pfizer/BioNTech</td>\n",
       "      <td>Government of Israel</td>\n",
       "      <td>https://datadashboard.health.gov.il/COVID-19/g...</td>\n",
       "    </tr>\n",
       "    <tr>\n",
       "      <th>781</th>\n",
       "      <td>Israel</td>\n",
       "      <td>ISR</td>\n",
       "      <td>2021-01-08</td>\n",
       "      <td>1799326.0</td>\n",
       "      <td>1799315.0</td>\n",
       "      <td>11.0</td>\n",
       "      <td>65175.0</td>\n",
       "      <td>108168.0</td>\n",
       "      <td>20.79</td>\n",
       "      <td>20.79</td>\n",
       "      <td>0.0</td>\n",
       "      <td>12497.0</td>\n",
       "      <td>Moderna, Pfizer/BioNTech</td>\n",
       "      <td>Government of Israel</td>\n",
       "      <td>https://datadashboard.health.gov.il/COVID-19/g...</td>\n",
       "    </tr>\n",
       "  </tbody>\n",
       "</table>\n",
       "</div>"
      ],
      "text/plain": [
       "    country iso_code        date  total_vaccinations  people_vaccinated  \\\n",
       "777  Israel      ISR  2021-01-04           1397768.0          1397766.0   \n",
       "778  Israel      ISR  2021-01-05           1520408.0          1520406.0   \n",
       "779  Israel      ISR  2021-01-06           1620887.0          1620885.0   \n",
       "780  Israel      ISR  2021-01-07           1734151.0          1734145.0   \n",
       "781  Israel      ISR  2021-01-08           1799326.0          1799315.0   \n",
       "\n",
       "     people_fully_vaccinated  daily_vaccinations_raw  daily_vaccinations  \\\n",
       "777                      2.0                139297.0            126287.0   \n",
       "778                      2.0                122640.0            121892.0   \n",
       "779                      2.0                100479.0            114890.0   \n",
       "780                      6.0                113264.0            108909.0   \n",
       "781                     11.0                 65175.0            108168.0   \n",
       "\n",
       "     total_vaccinations_per_hundred  people_vaccinated_per_hundred  \\\n",
       "777                           16.15                          16.15   \n",
       "778                           17.57                          17.57   \n",
       "779                           18.73                          18.73   \n",
       "780                           20.04                          20.04   \n",
       "781                           20.79                          20.79   \n",
       "\n",
       "     people_fully_vaccinated_per_hundred  daily_vaccinations_per_million  \\\n",
       "777                                  0.0                         14590.0   \n",
       "778                                  0.0                         14083.0   \n",
       "779                                  0.0                         13274.0   \n",
       "780                                  0.0                         12583.0   \n",
       "781                                  0.0                         12497.0   \n",
       "\n",
       "                     vaccines           source_name  \\\n",
       "777  Moderna, Pfizer/BioNTech  Government of Israel   \n",
       "778  Moderna, Pfizer/BioNTech  Government of Israel   \n",
       "779  Moderna, Pfizer/BioNTech  Government of Israel   \n",
       "780  Moderna, Pfizer/BioNTech  Government of Israel   \n",
       "781  Moderna, Pfizer/BioNTech  Government of Israel   \n",
       "\n",
       "                                        source_website  \n",
       "777  https://datadashboard.health.gov.il/COVID-19/g...  \n",
       "778  https://datadashboard.health.gov.il/COVID-19/g...  \n",
       "779  https://datadashboard.health.gov.il/COVID-19/g...  \n",
       "780  https://datadashboard.health.gov.il/COVID-19/g...  \n",
       "781  https://datadashboard.health.gov.il/COVID-19/g...  "
      ]
     },
     "execution_count": 8,
     "metadata": {},
     "output_type": "execute_result"
    }
   ],
   "source": [
    "cdf = df[df['country']=='Israel']\n",
    "cdf.head()"
   ]
  },
  {
   "cell_type": "code",
   "execution_count": 9,
   "metadata": {},
   "outputs": [
    {
     "name": "stderr",
     "output_type": "stream",
     "text": [
      "<ipython-input-9-799b0d187fab>:1: SettingWithCopyWarning: \n",
      "A value is trying to be set on a copy of a slice from a DataFrame.\n",
      "Try using .loc[row_indexer,col_indexer] = value instead\n",
      "\n",
      "See the caveats in the documentation: https://pandas.pydata.org/pandas-docs/stable/user_guide/indexing.html#returning-a-view-versus-a-copy\n",
      "  cdf['d'] = list(range(len(cdf)))\n"
     ]
    }
   ],
   "source": [
    "cdf['d'] = list(range(len(cdf)))"
   ]
  },
  {
   "cell_type": "code",
   "execution_count": 10,
   "metadata": {},
   "outputs": [
    {
     "data": {
      "text/plain": [
       "[<matplotlib.lines.Line2D at 0x23b380c5280>,\n",
       " <matplotlib.lines.Line2D at 0x23b380c5190>,\n",
       " <matplotlib.lines.Line2D at 0x23b380c5310>]"
      ]
     },
     "execution_count": 10,
     "metadata": {},
     "output_type": "execute_result"
    },
    {
     "data": {
      "image/png": "[encoded data removed]",
      "text/plain": [
       "<Figure size 432x288 with 1 Axes>"
      ]
     },
     "metadata": {
      "needs_background": "light"
     },
     "output_type": "display_data"
    }
   ],
   "source": [
    "plt.plot(cdf['d'],cdf[['total_vaccinations','people_fully_vaccinated','total_vaccinations_per_hundred']])"
   ]
  },
  {
   "cell_type": "code",
   "execution_count": 11,
   "metadata": {},
   "outputs": [
    {
     "data": {
      "image/png": "[encoded data removed]",
      "text/plain": [
       "<Figure size 432x288 with 1 Axes>"
      ]
     },
     "metadata": {
      "needs_background": "light"
     },
     "output_type": "display_data"
    }
   ],
   "source": [
    "plt.scatter(cdf.d, cdf.total_vaccinations, color='blue')\n",
    "plt.xlabel(\"Date\")\n",
    "plt.ylabel(\"total_vaccinations\")\n",
    "plt.show()"
   ]
  },
  {
   "cell_type": "code",
   "execution_count": 12,
   "metadata": {},
   "outputs": [
    {
     "name": "stdout",
     "output_type": "stream",
     "text": [
      "[ True  True False  True  True  True  True  True  True  True False  True\n",
      "  True False  True False  True False  True False  True  True  True False]\n"
     ]
    }
   ],
   "source": [
    "msk = np.random.rand(len(cdf)) < 0.6\n",
    "train = cdf[msk]\n",
    "test = cdf[~msk]\n",
    "print(msk)"
   ]
  },
  {
   "cell_type": "code",
   "execution_count": 13,
   "metadata": {},
   "outputs": [],
   "source": [
    "from sklearn import linear_model"
   ]
  },
  {
   "cell_type": "code",
   "execution_count": 14,
   "metadata": {},
   "outputs": [
    {
     "data": {
      "text/plain": [
       "LinearRegression()"
      ]
     },
     "execution_count": 14,
     "metadata": {},
     "output_type": "execute_result"
    }
   ],
   "source": [
    "regr = linear_model.LinearRegression()\n",
    "train_x = np.asanyarray(train[['d']])\n",
    "train_y = np.asanyarray(train[['total_vaccinations']])\n",
    "regr.fit (train_x, train_y)"
   ]
  },
  {
   "cell_type": "code",
   "execution_count": 15,
   "metadata": {},
   "outputs": [
    {
     "name": "stdout",
     "output_type": "stream",
     "text": [
      "Coefficients:  [[121478.89568398]]\n",
      "Intercept:  [1194468.49787857]\n"
     ]
    }
   ],
   "source": [
    "print ('Coefficients: ', regr.coef_)\n",
    "print ('Intercept: ',regr.intercept_)"
   ]
  },
  {
   "cell_type": "code",
   "execution_count": 44,
   "metadata": {},
   "outputs": [],
   "source": [
    "#List from the equation for train data\n",
    "#Line corrdinates\n",
    "trainedData = regr.coef_[0][0]*train_x + regr.intercept_[0]"
   ]
  },
  {
   "cell_type": "code",
   "execution_count": 43,
   "metadata": {},
   "outputs": [
    {
     "data": {
      "text/plain": [
       "Text(0, 0.5, 'total vaccinations')"
      ]
     },
     "execution_count": 43,
     "metadata": {},
     "output_type": "execute_result"
    },
    {
     "data": {
      "image/png": "[encoded data removed]",
      "text/plain": [
       "<Figure size 432x288 with 1 Axes>"
      ]
     },
     "metadata": {
      "needs_background": "light"
     },
     "output_type": "display_data"
    }
   ],
   "source": [
    "plt.scatter(train.d, train.total_vaccinations,  color='blue',label='training data')\n",
    "plt.plot(train.d, trainedData, color='green' , label='linear model')\n",
    "plt.scatter(test.d,test.total_vaccinations, color='red', label='test data')\n",
    "plt.xlabel(\"Date\")\n",
    "plt.ylabel(\"total vaccinations\")"
   ]
  },
  {
   "cell_type": "code",
   "execution_count": 17,
   "metadata": {},
   "outputs": [
    {
     "name": "stdout",
     "output_type": "stream",
     "text": [
      "Mean absolute error: 165307.27\n",
      "Residual sum of squares (MSE): 35727030374.41\n",
      "R2-score: 0.95\n"
     ]
    }
   ],
   "source": [
    "from sklearn.metrics import r2_score\n",
    "\n",
    "test_x = np.asanyarray(test[['d']])\n",
    "test_y = np.asanyarray(test[['total_vaccinations']])\n",
    "test_y_ = regr.predict(test_x)\n",
    "\n",
    "print(\"Mean absolute error: %.2f\" % np.mean(np.absolute(test_y_ - test_y)))\n",
    "print(\"Residual sum of squares (MSE): %.2f\" % np.mean((test_y_ - test_y) ** 2))\n",
    "print(\"R2-score: %.2f\" % r2_score(test_y , test_y_) )"
   ]
  },
  {
   "cell_type": "code",
   "execution_count": 19,
   "metadata": {},
   "outputs": [
    {
     "data": {
      "text/plain": [
       "796    2021-01-23\n",
       "797    2021-01-24\n",
       "798    2021-01-25\n",
       "799    2021-01-26\n",
       "800    2021-01-27\n",
       "Name: date, dtype: object"
      ]
     },
     "execution_count": 19,
     "metadata": {},
     "output_type": "execute_result"
    }
   ],
   "source": [
    "cdf['date'].tail()"
   ]
  },
  {
   "cell_type": "code",
   "execution_count": 28,
   "metadata": {},
   "outputs": [
    {
     "name": "stdout",
     "output_type": "stream",
     "text": [
      "777    2021-01-04\n",
      "Name: date, dtype: object 777    0\n",
      "Name: d, dtype: int64\n",
      "800    2021-01-27\n",
      "Name: date, dtype: object 800    23\n",
      "Name: d, dtype: int64\n"
     ]
    }
   ],
   "source": [
    "print(cdf['date'].head(1),cdf['d'].head(1))\n",
    "print(cdf['date'].tail(1),cdf['d'].tail(1))"
   ]
  },
  {
   "cell_type": "markdown",
   "metadata": {},
   "source": [
    "#### day 1 is 4/1/2021\n",
    "#### day 23 is 27/1/2021"
   ]
  },
  {
   "cell_type": "markdown",
   "metadata": {},
   "source": [
    "# Now lets predict out data after day 23"
   ]
  },
  {
   "cell_type": "code",
   "execution_count": 32,
   "metadata": {},
   "outputs": [],
   "source": [
    "def equation(day):\n",
    "    day = day + 23\n",
    "    return regr.coef_[0][0]*day + regr.intercept_[0]"
   ]
  },
  {
   "cell_type": "code",
   "execution_count": 40,
   "metadata": {},
   "outputs": [
    {
     "name": "stdout",
     "output_type": "stream",
     "text": [
      "Check total vaccinations after how many days after 27/1/2021 : 90\n",
      "\n",
      "\n",
      "Day 1 total vaccinations : \n",
      "3988483\n",
      "Day 23 total vaccinations : \n",
      "6782497\n",
      "After 90 days from 27/01/2021, total vaccinations should be AROUND : \n",
      "14921583\n"
     ]
    }
   ],
   "source": [
    "day = int(input(\"Check total vaccinations after how many days after 27/1/2021 : \"))\n",
    "print(\"\\n\\nDay 1 total vaccinations : \\n{}\".format(int(equation(0))))\n",
    "print(\"Day 23 total vaccinations : \\n{}\".format(int(equation(23))))\n",
    "print(\"After {0} days from 27/01/2021, total vaccinations should be AROUND : \\n{1}\".format(day,int(equation(day))))"
   ]
  },
  {
   "cell_type": "code",
   "execution_count": null,
   "metadata": {},
   "outputs": [],
   "source": []
  }
 ],
 "metadata": {
  "kernelspec": {
   "display_name": "Python 3",
   "language": "python",
   "name": "python3"
  },
  "language_info": {
   "codemirror_mode": {
    "name": "ipython",
    "version": 3
   },
   "file_extension": ".py",
   "mimetype": "text/x-python",
   "name": "python",
   "nbconvert_exporter": "python",
   "pygments_lexer": "ipython3",
   "version": "3.8.7"
  }
 },
 "nbformat": 4,
 "nbformat_minor": 4
}
